{
 "cells": [
  {
   "cell_type": "code",
   "execution_count": 1,
   "metadata": {},
   "outputs": [],
   "source": [
    "# base imports, these should always work\n",
    "\n",
    "# be sure that torch geometric works... if not install with pip (CPU version is good enough...):\n",
    "\n",
    "# pip install torch==1.7.1+cpu torchvision==0.8.2+cpu torchaudio==0.7.2 -f https://download.pytorch.org/whl/torch_stable.html\n",
    "# pip install --no-index torch-scatter -f https://pytorch-geometric.com/whl/torch-1.7.0+cpu.html\n",
    "# pip install --no-index torch-sparse -f https://pytorch-geometric.com/whl/torch-1.7.0+cpu.html\n",
    "# pip install --no-index torch-cluster -f https://pytorch-geometric.com/whl/torch-1.7.0+cpu.html\n",
    "# pip install --no-index torch-spline-conv -f https://pytorch-geometric.com/whl/torch-1.7.0+cpu.html\n",
    "# pip install torch-geometric\n",
    "\n",
    "import os\n",
    "import torch\n",
    "import numpy as np\n",
    "from copy import deepcopy\n",
    "\n",
    "from scipy.sparse import save_npz\n",
    "from scipy.sparse import load_npz\n",
    "\n",
    "import pandas as pd\n",
    "\n",
    "import networkx as nx\n",
    "\n",
    "from matplotlib import pyplot as plt\n",
    "import seaborn as sns\n",
    "\n",
    "from sklearn.decomposition import KernelPCA, TruncatedSVD, PCA\n",
    "from sklearn.cluster import SpectralClustering, KMeans, AgglomerativeClustering\n",
    "from sklearn.metrics import normalized_mutual_info_score, pairwise_distances\n",
    "from sklearn.cluster import KMeans\n",
    "from sklearn.manifold import TSNE\n",
    "from sklearn.preprocessing import StandardScaler\n",
    "from sklearn.manifold import TSNE\n",
    "from sklearn.model_selection import train_test_split\n",
    "from sklearn import preprocessing, svm, metrics"
   ]
  },
  {
   "cell_type": "markdown",
   "metadata": {},
   "source": [
    "## change directory to ./tudataset/tud_benchmark for imports, then back to base directory"
   ]
  },
  {
   "cell_type": "code",
   "execution_count": 2,
   "metadata": {},
   "outputs": [],
   "source": [
    "# we set our working dir to the tud_benchmark directory, here are the necessary \n",
    "# python files for the include below\n",
    "os.chdir(\"./tudataset/tud_benchmark\")\n",
    "import auxiliarymethods\n",
    "from auxiliarymethods import datasets as dp\n",
    "from auxiliarymethods import auxiliary_methods as aux\n",
    "from auxiliarymethods import kernel_evaluation\n",
    "from auxiliarymethods import reader\n",
    "os.chdir(\"../..\")"
   ]
  },
  {
   "cell_type": "markdown",
   "metadata": {},
   "source": [
    "## this part requires the Python bindings for the C++ baseline WL kernels\n",
    "\n",
    "## The following cells are only required for the recalculation of the baseline Gram matrices / sparse vectors, otherwise don't execute cells below."
   ]
  },
  {
   "cell_type": "code",
   "execution_count": 5,
   "metadata": {},
   "outputs": [],
   "source": [
    "# Compile kernel_baselines.cpp once...\n",
    "# ./tudataset/tud_benchmark/kernel_baselines\n",
    "\n",
    "# see generate_kernels.ipynb for more detail, dont launch this here...\n",
    "\n",
    "# also requires pybind, eigen3... Linux commands:\n",
    "\n",
    "# sudo apt-get install libeigen3-dev\n",
    "# sudo apt install python3-pybind11\n",
    "# g++ -I /usr/include/eigen3 -O3 -shared -std=c++11 -fPIC `python3 -m pybind11 --includes`  kernel_baselines.cpp src/*cpp -o ../kernel_baselines`python3-config --extension-suffix`"
   ]
  },
  {
   "cell_type": "code",
   "execution_count": 3,
   "metadata": {
    "id": "n8HOSZDPBbNV"
   },
   "outputs": [],
   "source": [
    "# include the compiled Python bindings:\n",
    "os.chdir(\"./tudataset/tud_benchmark\")\n",
    "import kernel_baselines as kb\n",
    "os.chdir(\"../..\")"
   ]
  },
  {
   "cell_type": "code",
   "execution_count": 4,
   "metadata": {
    "colab": {
     "base_uri": "https://localhost:8080/"
    },
    "id": "VoWVqxq5B8RW",
    "outputId": "5371a969-2cb4-4160-ff4d-cc19cb9d5bb7"
   },
   "outputs": [
    {
     "name": "stdout",
     "output_type": "stream",
     "text": [
      "Start processing data set  ENZYMES\n",
      "Start computing Weisfeihler-Lehman gram matrix and vector representations\n",
      "Start iteration  1\n",
      "Start iteration  2\n",
      "Start iteration  3\n",
      "Start iteration  4\n",
      "Start iteration  5\n",
      "Start computing Graphlet gram matrix\n",
      "Start computing Graphlet vector representation\n",
      "Start computing Shortest path gram matrix\n",
      "Start computing Shortest path vector representation\n",
      "Start WL OA\n",
      "Start processing data set  ENZYMES\n",
      "Start computing Weisfeihler-Lehman gram matrix and vector representations\n",
      "Start iteration  1\n",
      "Start iteration  2\n",
      "Start iteration  3\n",
      "Start iteration  4\n",
      "Start iteration  5\n",
      "Start computing Graphlet gram matrix\n",
      "Start computing Graphlet vector representation\n",
      "Start computing Shortest path gram matrix\n",
      "Start computing Shortest path vector representation\n",
      "Start WL OA\n"
     ]
    }
   ],
   "source": [
    "# !! no necessity to call this...\n",
    "\n",
    "# this regenerates the baseline kernels and saves the gram matrices & sparse vectors \n",
    "# under ./tudataset/tud_benchmark/kernels/\n",
    "\n",
    "use_edge_labels = False\n",
    "dataset = \"ENZYMES\"\n",
    "\n",
    "os.chdir(\"./tudataset/tud_benchmark\")\n",
    "for use_labels in [True, False]:# Except IMDB-BINARY\n",
    "\n",
    "        if use_labels:\n",
    "            base_path = os.path.join(\"kernels\",\"node_labels\")\n",
    "        else:\n",
    "            base_path = os.path.join(\"kernels\",\"without_labels\")\n",
    "            \n",
    "        print(\"Start processing data set \", dataset)\n",
    "        # Download dataset.\n",
    "        classes = dp.get_dataset(dataset)\n",
    "        # *Weisfeihler-Lehman*\n",
    "        print(\"Start computing Weisfeihler-Lehman gram matrix and vector representations\")\n",
    "        \n",
    "        iterations = 6 # means just 5...\n",
    "        \n",
    "        #0 taking just the nodelabels themselves into account; \n",
    "        #1 considers nearest-neighbours, 2 one layer deeper and so on\n",
    "        for i in range(1, iterations):\n",
    "            print(\"Start iteration \", i)\n",
    "            #Gram Matrix for the Weisfeiler-Lehman subtree kernel\n",
    "            gram_matrix_wl = kb.compute_wl_1_dense(dataset, i, use_labels, use_edge_labels)\n",
    "            np.savetxt(os.path.join(base_path,f\"{dataset}_gram_matrix_wl{i}.csv\"),\n",
    "                    gram_matrix_wl,\n",
    "                    delimiter=\";\")\n",
    "            #Sparse Vectors for the Weisfeiler-Lehmann subtree kernel\n",
    "            vectors_wl = kb.compute_wl_1_sparse(dataset, i, use_labels, use_edge_labels)\n",
    "            save_npz(os.path.join(base_path,f\"{dataset}_vectors_wl{i}.npz\"),\n",
    "                    vectors_wl, compressed=True)               \n",
    "            \n",
    "        # *Graphlet kernel*\n",
    "        print(\"Start computing Graphlet gram matrix\")\n",
    "\n",
    "        #Gram Matrix for the Graphlet kernel\n",
    "        gram_matrix_graphlet= kb.compute_graphlet_dense(dataset, use_labels, use_edge_labels)\n",
    "        np.savetxt(os.path.join(base_path,f\"{dataset}_gram_matrix_graphlet.csv\"),\n",
    "                gram_matrix_graphlet,\n",
    "                delimiter=\";\")\n",
    "\n",
    "        print(\"Start computing Graphlet vector representation\")\n",
    "        #Sparse Vectors for the Graphlet kernel\n",
    "        vectors_graphlet = kb.compute_graphlet_sparse(dataset, use_labels, use_edge_labels)\n",
    "        save_npz(os.path.join(base_path,f\"{dataset}_vectors_graphlet.npz\"),\n",
    "                vectors_graphlet, compressed=True)\n",
    "\n",
    "\n",
    "        print(\"Start computing Shortest path gram matrix\")\n",
    "        #Gram Matrix for the Shortest path kernel\n",
    "        gram_matrix_shortestpath = kb.compute_shortestpath_dense(dataset, use_labels)\n",
    "        np.savetxt(os.path.join(base_path,f\"{dataset}_gram_matrix_shortestpath.csv\"),\n",
    "                gram_matrix_shortestpath,\n",
    "                delimiter=\";\")\n",
    "\n",
    "        print(\"Start computing Shortest path vector representation\")\n",
    "        #Sparse Vectors for the Shortest path kernel\n",
    "        vectors_shortestpath = kb.compute_shortestpath_sparse(dataset, use_labels)\n",
    "        save_npz(os.path.join(base_path,f\"{dataset}_vectors_shortestpath.npz\"),\n",
    "                vectors_shortestpath, compressed=True)\n",
    "        \n",
    "        # // Max hinzugefügt\n",
    "        # Weisfeiler-Lehman optimal assignment kernel\n",
    "        # *WL-OA* # https://chrsmrrs.github.io/datasets/docs/evaluation/\n",
    "        print(\"Start WL OA\")\n",
    "        gram_matrix_oa = kb.compute_wloa_dense(dataset, 6, use_labels, use_edge_labels)    \n",
    "        np.savetxt(os.path.join(base_path,f\"{dataset}_gram_matrix_oa.csv\"),\n",
    "                gram_matrix_oa,\n",
    "                delimiter=\";\")\n",
    "                   \n",
    "        # does not exist?\n",
    "        #   vectors_oa = kb.compute_wloa_sparse(dataset, 6, use_labels, use_edge_labels)\n",
    "        #   save_npz(os.path.join(base_path,f\"{dataset}_vectors_oa.npz\"),\n",
    "        #           vectors_oa, compressed=True)\n",
    "\n",
    "os.chdir(\"../..\")"
   ]
  },
  {
   "cell_type": "markdown",
   "metadata": {},
   "source": [
    "---\n",
    "\n",
    "## Start here for the the design of our own kernel.\n",
    "\n",
    "we can use the tudataset functions (auxiliaryfunctions) to generate the 600 graphs from the individual files in \n",
    "./tudataset/tud_benchmark/datasets/ENZYMES/ENZYMES/raw\n",
    "\n",
    "\n",
    "## Starting points: Python graph kernel examples:\n",
    "\n",
    "https://github.com/reemagit/GraphKernel\n",
    "\n",
    "https://github.com/jajupmochi/graphkit-learn\n",
    "\n",
    "https://strawberryfields.ai/photonics/apps/run_tutorial_similarity.html\n",
    "\n",
    "\n",
    "A Python implementation of a fast approximation of the Weisfeiler-Lehman Graph Kernels:\n",
    "\n",
    "https://github.com/deeplego/wl-graph-kernels\n",
    "\n",
    "https://github.com/deeplego/wl-graph-kernels/blob/master/wlkernel/_wlkernel.py"
   ]
  },
  {
   "cell_type": "code",
   "execution_count": 5,
   "metadata": {},
   "outputs": [
    {
     "name": "stdout",
     "output_type": "stream",
     "text": [
      "Number of graphs in data set is 600\n"
     ]
    }
   ],
   "source": [
    "# all the auxiliaryfunctions method take the argument as string, for whatever reason...\n",
    "dataset = \"ENZYMES\"\n",
    "\n",
    "os.chdir(\"./tudataset/tud_benchmark\")\n",
    "classes = dp.get_dataset(dataset) # this downloads the datasets and stores a list of integers with the true labels\n",
    "G = reader.tud_to_networkx(dataset)\n",
    "os.chdir(\"../..\")\n",
    "\n",
    "print(f\"Number of graphs in data set is {len(G)}\")"
   ]
  },
  {
   "cell_type": "code",
   "execution_count": 6,
   "metadata": {},
   "outputs": [],
   "source": [
    "# from Nikolas notebook\n",
    "\n",
    "def visualize(G, color=None, figsize=(5,5)):\n",
    "    plt.figure(figsize=figsize)\n",
    "    plt.xticks([])\n",
    "    plt.yticks([])\n",
    "    nx.draw_networkx(G,\n",
    "    pos=nx.spring_layout(G, seed=42),\n",
    "    with_labels=True,\n",
    "    node_color=color,\n",
    "    cmap=\"Set2\")\n",
    "    plt.show();    "
   ]
  },
  {
   "cell_type": "code",
   "execution_count": 7,
   "metadata": {},
   "outputs": [
    {
     "data": {
      "image/png": "[encoded data removed]",
      "text/plain": [
       "<Figure size 360x360 with 1 Axes>"
      ]
     },
     "metadata": {},
     "output_type": "display_data"
    }
   ],
   "source": [
    "visualize(G[0])\n",
    "\n",
    "# graph properties:\n",
    "    # number of nodes and edges\n",
    "    # degree histogram or distribution\n",
    "    # node label histogram\n",
    "    # connectivity\n",
    "    # planarity\n",
    "    # bipartitness\n",
    "    # treewidth\n",
    "\n",
    "# node properties:\n",
    "    # centrality measures: eigenvector, pagerank, degree, betweenness, closeness\n",
    "    # clustering coefficient"
   ]
  },
  {
   "cell_type": "markdown",
   "metadata": {},
   "source": [
    "---\n",
    "\n",
    "# Classification Experiments with baseline kernels\n",
    "\n",
    "load the precomputed Gram matrices as csv. (use subdirectory precomputed_kernels)\n",
    "\n",
    "Nikola/Peter did some preprocessing, but unprocessed Gram matrices performed better\n",
    "for SVM tests...\n",
    "\n",
    "WL Paper: http://www.jmlr.org/papers/volume12/shervashidze11a/shervashidze11a.pdf\n",
    "\n",
    "WL OA Paper: https://papers.nips.cc/paper/6166-on-valid-optimal-assignment-kernels-and-applications-to-graph-classification.pdf"
   ]
  },
  {
   "cell_type": "code",
   "execution_count": 8,
   "metadata": {},
   "outputs": [],
   "source": [
    "#Gram Matrix (G=V^T*V) for the Weisfeiler-Lehman subtree kernel\n",
    "\n",
    "kernel_input_gram = \"./precomputed_kernels/node_labels/ENZYMES_gram_matrix_wl1.csv\"\n",
    "gram_matrix = np.loadtxt(kernel_input_gram, delimiter=\";\")\n",
    "gram_matrix_wl1 = aux.normalize_gram_matrix(gram_matrix) # values from 0 to 1\n",
    "\n",
    "kernel_input_gram = \"./precomputed_kernels/node_labels/ENZYMES_gram_matrix_wl2.csv\"\n",
    "gram_matrix = np.loadtxt(kernel_input_gram, delimiter=\";\")\n",
    "gram_matrix_wl2 = aux.normalize_gram_matrix(gram_matrix) # values from 0 to 1\n",
    "\n",
    "kernel_input_gram = \"./precomputed_kernels/node_labels/ENZYMES_gram_matrix_wl3.csv\"\n",
    "gram_matrix = np.loadtxt(kernel_input_gram, delimiter=\";\")\n",
    "gram_matrix_wl3 = aux.normalize_gram_matrix(gram_matrix) # values from 0 to 1\n",
    "\n",
    "kernel_input_gram = \"./precomputed_kernels/node_labels/ENZYMES_gram_matrix_wl4.csv\"\n",
    "gram_matrix = np.loadtxt(kernel_input_gram, delimiter=\";\")\n",
    "gram_matrix_wl4 = aux.normalize_gram_matrix(gram_matrix) # values from 0 to 1\n",
    "\n",
    "kernel_input_gram = \"./precomputed_kernels/node_labels/ENZYMES_gram_matrix_wl5.csv\"\n",
    "gram_matrix = np.loadtxt(kernel_input_gram, delimiter=\";\")\n",
    "gram_matrix_wl5 = aux.normalize_gram_matrix(gram_matrix) # values from 0 to 1\n"
   ]
  },
  {
   "cell_type": "markdown",
   "metadata": {},
   "source": [
    "### SVM testfunctions by kernel_evaluation.py \n",
    "\n",
    "https://scikit-learn.org/stable/modules/multiclass.html <-- !!! good explanation, schöne bilder...\n",
    "\n",
    "we either use LIBSVM (gram matrices, kernel_svm_evaluation function) or\n",
    "\n",
    "LIBLINEAR with (optional) edge labels (vectors, function linear_svm_evaluation).\n",
    "\n",
    "For the enzymes dataset, I think gram matrices are the better choice?\n",
    "\n",
    "TODO: Other algorithms beside SVM? Accuarcy for all class labels"
   ]
  },
  {
   "cell_type": "code",
   "execution_count": 9,
   "metadata": {},
   "outputs": [
    {
     "name": "stdout",
     "output_type": "stream",
     "text": [
      "accuracy: 50.38333333333333\n",
      "standard deviations of all 10-CV runs: 1.2473304828045098\n",
      "standard deviations of all 100 runs: 6.239902955085831\n"
     ]
    }
   ],
   "source": [
    "# the function are in ./tudataset/tud_benchmark/auxiliarymethods/kernel_evaluation.py\n",
    "\n",
    "# linear_svm_evaluation() uses Kfold crossvalidation with LinearSVC (sklearn) Multiclass as One-Vs-The-Rest\n",
    "# kernel_svm_evaluation() uses Kfold crossvalidation with SVC (sklearn)       Multiclass as one vs one\n",
    "\n",
    "# see https://chrsmrrs.github.io/datasets/docs/evaluation/ (SVM evaluation)\n",
    "# test_size=0.1\n",
    "# this sets The C parameters (Regularization parameter. The strength of the regularization is inversely proportional to C. Must be strictly positive. The penalty is a squared l2 penalty.\n",
    "# see https://scikit-learn.org/stable/modules/generated/sklearn.svm.SVC.html#sklearn.svm.SVC\n",
    "\n",
    "# line 98 kernel_evaluation.py: clf = SVC(C=c, kernel=\"precomputed\", tol=0.001)\n",
    "# !!! we're using the precomputed kernel flag...\n",
    "\n",
    "all_matrices = [gram_matrix_wl1, gram_matrix_wl2, gram_matrix_wl3, gram_matrix_wl4, gram_matrix_wl5]\n",
    "num_reps = 10\n",
    "accuracy, std_10, std_100 = kernel_evaluation.kernel_svm_evaluation(all_matrices, classes, num_repetitions=num_reps, all_std=True)\n",
    "\n",
    "print (\"accuracy:\", accuracy)\n",
    "print (\"standard deviations of all 10-CV runs:\", std_10) \n",
    "print (\"standard deviations of all 100 runs:\", std_100) \n",
    "\n",
    "# this takes a 1 min to compute..."
   ]
  },
  {
   "cell_type": "code",
   "execution_count": 16,
   "metadata": {},
   "outputs": [
    {
     "name": "stdout",
     "output_type": "stream",
     "text": [
      "Accuracy: 0.6083333333333333\n"
     ]
    }
   ],
   "source": [
    "# Simple SVM SVC setup without cross validation\n",
    "# this is the approach used in Nikola & Peters exploratory data analysis pdf...\n",
    "# this might be invalid??\n",
    "\n",
    "# Split dataset into training set and test set\n",
    "X_train, X_test, y_train, y_test = train_test_split(gram_matrix_wl5, classes,test_size=0.2,random_state=109) # 70% training and 30% test\n",
    "\n",
    "# SVM kernels: kernel{‘linear’, ‘poly’, ‘rbf’, ‘sigmoid’, ‘precomputed’}, default=’rbf’\n",
    "\n",
    "clf = svm.SVC(kernel='poly') #Create a svm Classifier, 'poly' kernel is the best by far!\n",
    "\n",
    "clf.fit(X_train, y_train) #Train the model using the training sets\n",
    "y_pred = clf.predict(X_test) #Predict the response for test dataset\n",
    "print(f\"Accuracy:\", metrics.accuracy_score(y_test,y_pred)) # Model Accuracy: how often is the classifier correct?"
   ]
  },
  {
   "cell_type": "code",
   "execution_count": 11,
   "metadata": {},
   "outputs": [
    {
     "name": "stdout",
     "output_type": "stream",
     "text": [
      "accuracy: 40.8\n",
      "standard deviations of all 10-CV runs: 1.4118545723031584\n",
      "standard deviations of all 100 runs: 6.816972283287583\n"
     ]
    }
   ],
   "source": [
    "# only using the shortest path kernel & Gram matrix.\n",
    "# This is __NOT__ the WL shortest path kernel.. sadly\n",
    "\n",
    "kernel_input_gram = \"./precomputed_kernels/node_labels/ENZYMES_gram_matrix_shortestpath.csv\"\n",
    "gram_matrix = np.loadtxt(kernel_input_gram, delimiter=\";\")\n",
    "gram_matrix_shortest_path = aux.normalize_gram_matrix(gram_matrix)\n",
    "\n",
    "all_matrices = [gram_matrix_shortest_path]\n",
    "num_reps = 10\n",
    "accuracy, std_10, std_100 = kernel_evaluation.kernel_svm_evaluation(all_matrices, classes, num_repetitions=num_reps, all_std=True)\n",
    "\n",
    "print (\"accuracy:\", accuracy)\n",
    "print (\"standard deviations of all 10-CV runs:\", std_10) \n",
    "print (\"standard deviations of all 100 runs:\", std_100) \n",
    "\n",
    "# this takes a 30 sec to compute..."
   ]
  },
  {
   "cell_type": "code",
   "execution_count": 12,
   "metadata": {},
   "outputs": [
    {
     "name": "stdout",
     "output_type": "stream",
     "text": [
      "accuracy: 50.43333333333333\n",
      "standard deviations of all 10-CV runs: 1.2935738607954825\n",
      "standard deviations of all 100 runs: 6.986574426872029\n"
     ]
    }
   ],
   "source": [
    "# all wl matrices + shortest path \n",
    "\n",
    "all_matrices = [gram_matrix_wl1, gram_matrix_wl2, gram_matrix_wl3, gram_matrix_wl4, gram_matrix_wl5, gram_matrix_shortest_path]\n",
    "num_reps = 10\n",
    "accuracy, std_10, std_100 = kernel_evaluation.kernel_svm_evaluation(all_matrices, classes, num_repetitions=num_reps, all_std=True)\n",
    "\n",
    "print (\"accuracy:\", accuracy)\n",
    "print (\"standard deviations of all 10-CV runs:\", std_10) \n",
    "print (\"standard deviations of all 100 runs:\", std_100) \n",
    "\n",
    "# this takes about 2 min to compute..."
   ]
  },
  {
   "cell_type": "code",
   "execution_count": 13,
   "metadata": {},
   "outputs": [
    {
     "name": "stdout",
     "output_type": "stream",
     "text": [
      "accuracy: 55.116666666666674\n",
      "standard deviations of all 10-CV runs: 1.1572236891226653\n",
      "standard deviations of all 100 runs: 5.926658230215217\n"
     ]
    }
   ],
   "source": [
    "# only using the \"new\" WL optimal assignment kernel\n",
    "# we get the best accuarcy here.\n",
    "\n",
    "kernel_input_gram = \"./precomputed_kernels/node_labels/ENZYMES_gram_matrix_oa.csv\"\n",
    "gram_matrix = np.loadtxt(kernel_input_gram, delimiter=\";\")\n",
    "gram_matrix_oa = aux.normalize_gram_matrix(gram_matrix)\n",
    "\n",
    "all_matrices = [gram_matrix_oa]\n",
    "num_reps = 10\n",
    "accuracy, std_10, std_100 = kernel_evaluation.kernel_svm_evaluation(all_matrices, classes, num_repetitions=num_reps, all_std=True)\n",
    "\n",
    "print (\"accuracy:\", accuracy)\n",
    "print (\"standard deviations of all 10-CV runs:\", std_10) \n",
    "print (\"standard deviations of all 100 runs:\", std_100) \n",
    "\n",
    "# this takes a 30 sec to compute..."
   ]
  },
  {
   "cell_type": "code",
   "execution_count": 14,
   "metadata": {},
   "outputs": [
    {
     "name": "stdout",
     "output_type": "stream",
     "text": [
      "accuracy: 53.15\n",
      "standard deviations of all 10-CV runs: 2.0227181931472518\n",
      "standard deviations of all 100 runs: 6.879498528235905\n"
     ]
    }
   ],
   "source": [
    "# all wl matrices + wl_oa\n",
    "\n",
    "all_matrices = [gram_matrix_wl1, gram_matrix_wl2, gram_matrix_wl3, gram_matrix_wl4, gram_matrix_wl5, gram_matrix_oa]\n",
    "num_reps = 10\n",
    "accuracy, std_10, std_100 = kernel_evaluation.kernel_svm_evaluation(all_matrices, classes, num_repetitions=num_reps, all_std=True)\n",
    "\n",
    "print (\"accuracy:\", accuracy)\n",
    "print (\"standard deviations of all 10-CV runs:\", std_10) \n",
    "print (\"standard deviations of all 100 runs:\", std_100) \n",
    "\n",
    "# this takes about 2 min to compute..."
   ]
  },
  {
   "cell_type": "markdown",
   "metadata": {},
   "source": [
    "\n",
    "# --- \n",
    "\n",
    "sparse vectors below (LIBLINEAR with (optional) edge labels (vectors, function linear_svm_evaluation))"
   ]
  },
  {
   "cell_type": "code",
   "execution_count": 42,
   "metadata": {},
   "outputs": [],
   "source": [
    "# Same thing for sparse vector representation for the Weisfeiler-Lehman subtree kernel\n",
    "\n",
    "kernel_input_sparse = \"./precomputed_kernels/node_labels/ENZYMES_vectors_wl1.npz\"\n",
    "sparse_vectors_wl1 = load_npz(kernel_input_sparse)\n",
    "sparse_vectors_wl1 = aux.normalize_feature_vector(sparse_vectors_wl1)\n",
    "\n",
    "kernel_input_sparse = \"./precomputed_kernels/node_labels/ENZYMES_vectors_wl2.npz\"\n",
    "sparse_vectors_wl2 = load_npz(kernel_input_sparse)\n",
    "sparse_vectors_wl2 = aux.normalize_feature_vector(sparse_vectors_wl2)\n",
    "\n",
    "kernel_input_sparse = \"./precomputed_kernels/node_labels/ENZYMES_vectors_wl3.npz\"\n",
    "sparse_vectors_wl3 = load_npz(kernel_input_sparse)\n",
    "sparse_vectors_wl3 = aux.normalize_feature_vector(sparse_vectors_wl3)\n",
    "\n",
    "kernel_input_sparse = \"./precomputed_kernels/node_labels/ENZYMES_vectors_wl4.npz\"\n",
    "sparse_vectors_wl4 = load_npz(kernel_input_sparse)\n",
    "sparse_vectors_wl4 = aux.normalize_feature_vector(sparse_vectors_wl4)\n",
    "\n",
    "kernel_input_sparse = \"./precomputed_kernels/node_labels/ENZYMES_vectors_wl5.npz\"\n",
    "sparse_vectors_wl5 = load_npz(kernel_input_sparse)\n",
    "sparse_vectors_wl5 = aux.normalize_feature_vector(sparse_vectors_wl5)\n",
    "\n",
    "# # the sparse matrices from the WL kernel are stored in the npz format\n",
    "# # (the matrix mostly contains zeros)\n",
    "# # https://docs.scipy.org/doc/scipy-1.2.0/reference/generated/scipy.sparse.save_npz.html#scipy.sparse.save_npz"
   ]
  },
  {
   "cell_type": "code",
   "execution_count": 44,
   "metadata": {},
   "outputs": [],
   "source": [
    "feature_vectors = [sparse_vectors_wl1, sparse_vectors_wl2, sparse_vectors_wl3, sparse_vectors_wl4, sparse_vectors_wl5]\n",
    "num_reps = 10\n",
    "\n",
    "accuracy, std_10, std_100 = kernel_evaluation.linear_svm_evaluation(feature_vectors, classes, num_repetitions=num_reps, all_std=True)\n",
    "\n",
    "# this takes a lot longer, uses all cores at 100% load...\n",
    "# took about 5-10 min..."
   ]
  },
  {
   "cell_type": "code",
   "execution_count": 45,
   "metadata": {},
   "outputs": [
    {
     "data": {
      "text/plain": [
       "(51.466666666666676, 1.8178130939247985, 6.206090198793082)"
      ]
     },
     "execution_count": 45,
     "metadata": {},
     "output_type": "execute_result"
    }
   ],
   "source": [
    "accuracy, std_10, std_100"
   ]
  },
  {
   "cell_type": "code",
   "execution_count": null,
   "metadata": {},
   "outputs": [],
   "source": []
  }
 ],
 "metadata": {
  "accelerator": "GPU",
  "colab": {
   "name": "generate_kernels.ipynb",
   "provenance": []
  },
  "kernelspec": {
   "display_name": "Python 3",
   "language": "python",
   "name": "python3"
  },
  "language_info": {
   "codemirror_mode": {
    "name": "ipython",
    "version": 3
   },
   "file_extension": ".py",
   "mimetype": "text/x-python",
   "name": "python",
   "nbconvert_exporter": "python",
   "pygments_lexer": "ipython3",
   "version": "3.8.6"
  }
 },
 "nbformat": 4,
 "nbformat_minor": 4
}
