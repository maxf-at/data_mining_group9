{
 "cells": [
  {
   "cell_type": "code",
   "execution_count": 15,
   "metadata": {},
   "outputs": [],
   "source": [
    "from custom_kernel_example import NodeLabelKernel\n",
    "import os\n",
    "import sys\n",
    "import time\n",
    "from grakel.datasets import fetch_dataset\n",
    "from tudataset.tud_benchmark.auxiliarymethods import kernel_evaluation\n",
    "import numpy as np\n"
   ]
  },
  {
   "cell_type": "code",
   "execution_count": 2,
   "metadata": {},
   "outputs": [
    {
     "name": "stdout",
     "output_type": "stream",
     "text": [
      "Loading ENZYMES dataset\n"
     ]
    }
   ],
   "source": [
    "# Loads the ENZYMES dataset\n",
    "print(\"Loading ENZYMES dataset\")\n",
    "ENZYMES_attr = fetch_dataset(\"ENZYMES\", prefer_attr_nodes=True, verbose=False) #loads all node attributes\n",
    "#ENZYMES_attr = fetch_dataset(\"ENZYMES\", with_classes=True, verbose=False) #loads node labels\n",
    "\n",
    "G, classes = ENZYMES_attr.data, ENZYMES_attr.target"
   ]
  },
  {
   "cell_type": "code",
   "execution_count": 5,
   "metadata": {},
   "outputs": [],
   "source": [
    "def generate_hyperkernel_feature_matrix(weights ,attr_index_list, G):\n",
    "    ENZYMES_hyperkernel_features= []\n",
    "    SSE_count = 1\n",
    "    for i in range(0, len(G)):\n",
    "        enzyme = [G[i][0]]\n",
    "\n",
    "        attr = {}\n",
    "        # iterate over ss elements\n",
    "        for ss in range(0, len(G[i][1])):\n",
    "            # calculate hyperkernel value\n",
    "            attr[SSE_count] = 0\n",
    "            for index, attribute_index in enumerate(attr_index_list):\n",
    "                weight = weights[index]\n",
    "                attr[SSE_count] += (weight * G[i][1][SSE_count][attribute_index])\n",
    "            SSE_count += 1\n",
    "\n",
    "        enzyme.append(attr)\n",
    "\n",
    "        enzyme.append({})\n",
    "\n",
    "        ENZYMES_hyperkernel_features.append(enzyme)\n",
    "    return(ENZYMES_hyperkernel_features)"
   ]
  },
  {
   "cell_type": "code",
   "execution_count": 154,
   "metadata": {},
   "outputs": [],
   "source": [
    "def generate_attribute_data(attribute_index, G):\n",
    "    ENZYMES_attr_subset= []\n",
    "    SSE_count = 1\n",
    "    for i in range(0, len(G)):\n",
    "        enzyme = [G[i][0]]\n",
    "\n",
    "        attr = {}\n",
    "        for ss in range(0, len(G[i][1])):\n",
    "            attr[SSE_count] = G[i][1][SSE_count][attribute_index]\n",
    "            SSE_count += 1\n",
    "\n",
    "        enzyme.append(attr)\n",
    "\n",
    "        enzyme.append({})\n",
    "\n",
    "        ENZYMES_attr_subset.append(enzyme)\n",
    "    return(ENZYMES_attr_subset)"
   ]
  },
  {
   "cell_type": "code",
   "execution_count": 137,
   "metadata": {},
   "outputs": [],
   "source": [
    "all_matrices = []\n",
    "\n",
    "for attr_index in range(0, 18): # 18 node attributes\n",
    "    ENZYMES_attr_subset = generate_attribute_data(attr_index, G)\n",
    "    G_subseted, classes = ENZYMES_attr_subset, ENZYMES_attr.target\n",
    "    # initialize kernel\n",
    "    label_kernel = NodeLabelKernel(normalize=True)\n",
    "    label_kernel_gram = label_kernel.fit_transform(G_subseted)\n",
    "    all_matrices.append(label_kernel_gram)"
   ]
  },
  {
   "cell_type": "code",
   "execution_count": 133,
   "metadata": {},
   "outputs": [
    {
     "name": "stdout",
     "output_type": "stream",
     "text": [
      "Starting kernel svm evaluation...\n",
      "accuracy: 63.71666666666666\n",
      "standard deviations of all 10-CV runs: 1.0699169230469352\n",
      "standard deviations of all 100 runs: 4.7775807452912575\n",
      "Elapsed time:  491.98106694221497\n"
     ]
    }
   ],
   "source": [
    "start = time.time()\n",
    "\n",
    "# kernel svm evaluation\n",
    "print(\"Starting kernel svm evaluation...\") # ca 40 seconds\n",
    "num_reps = 10\n",
    "accuracy, std_10, std_100 = kernel_evaluation.kernel_svm_evaluation(all_matrices, classes, num_repetitions=num_reps, all_std=True)\n",
    "\n",
    "print (\"accuracy:\", accuracy)\n",
    "print (\"standard deviations of all 10-CV runs:\", std_10)\n",
    "print (\"standard deviations of all 100 runs:\", std_100)\n",
    "\n",
    "end = time.time()\n",
    "print(\"Elapsed time: \",end - start)"
   ]
  },
  {
   "cell_type": "code",
   "execution_count": null,
   "metadata": {},
   "outputs": [],
   "source": [
    "weights = [1,1, 1 ,1 , 0.12, 0.12, 0.12, 0.4, 0.13, 0.14, 0.13]\n",
    "attr_index_list= [0, 7, 8, 9, 10, 11, 12 ,13, 15, 16, 17]\n",
    "\n",
    "hyper_attr = generate_hyperkernel_feature_matrix(weights, attr_index_list, G )"
   ]
  },
  {
   "cell_type": "code",
   "execution_count": 14,
   "metadata": {},
   "outputs": [
    {
     "name": "stdout",
     "output_type": "stream",
     "text": [
      "[[1. 1. 1. ... 0. 0. 0.]\n",
      " [0. 0. 0. ... 0. 0. 0.]\n",
      " [0. 0. 0. ... 0. 0. 0.]\n",
      " ...\n",
      " [0. 0. 0. ... 0. 0. 0.]\n",
      " [0. 0. 0. ... 1. 7. 0.]\n",
      " [0. 0. 0. ... 1. 8. 1.]]\n",
      "Starting kernel svm evaluation...\n",
      "accuracy: 66.16666666666666\n",
      "standard deviations of all 10-CV runs: 0.9036961141150666\n",
      "standard deviations of all 100 runs: 6.383572667401852\n",
      "Elapsed time:  5.808809041976929\n"
     ]
    }
   ],
   "source": [
    "G_subseted, classes = hyper_attr, ENZYMES_attr.target\n",
    "# initialize kernel\n",
    "hyper_kernel = NodeLabelKernel(normalize=True)\n",
    "hyper_kernel_gram = hyper_kernel.fit_transform(G_subseted)\n",
    "\n",
    "start = time.time()\n",
    "\n",
    "# kernel svm evaluation\n",
    "print(\"Starting kernel svm evaluation...\") # ca 40 seconds\n",
    "num_reps = 10\n",
    "accuracy, std_10, std_100 = kernel_evaluation.kernel_svm_evaluation([hyper_kernel_gram] , classes, num_repetitions=num_reps, all_std=True)\n",
    "\n",
    "print (\"accuracy:\", accuracy)\n",
    "print (\"standard deviations of all 10-CV runs:\", std_10)\n",
    "print (\"standard deviations of all 100 runs:\", std_100)\n",
    "\n",
    "end = time.time()\n",
    "print(\"Elapsed time: \",end - start)"
   ]
  },
  {
   "cell_type": "code",
   "execution_count": 17,
   "metadata": {},
   "outputs": [],
   "source": [
    "np.savetxt(\"./precomputed_kernels/without_labels/ENZYMES_gram_matrix_hyperkernel_v1.csv\",hyper_kernel_gram, delimiter=\";\")"
   ]
  }
 ],
 "metadata": {
  "kernelspec": {
   "display_name": "Python 3",
   "language": "python",
   "name": "python3"
  },
  "language_info": {
   "codemirror_mode": {
    "name": "ipython",
    "version": 3
   },
   "file_extension": ".py",
   "mimetype": "text/x-python",
   "name": "python",
   "nbconvert_exporter": "python",
   "pygments_lexer": "ipython3",
   "version": "3.8.5"
  },
  "varInspector": {
   "cols": {
    "lenName": 16,
    "lenType": 16,
    "lenVar": 40
   },
   "kernels_config": {
    "python": {
     "delete_cmd_postfix": "",
     "delete_cmd_prefix": "del ",
     "library": "var_list.py",
     "varRefreshCmd": "print(var_dic_list())"
    },
    "r": {
     "delete_cmd_postfix": ") ",
     "delete_cmd_prefix": "rm(",
     "library": "var_list.r",
     "varRefreshCmd": "cat(var_dic_list()) "
    }
   },
   "types_to_exclude": [
    "module",
    "function",
    "builtin_function_or_method",
    "instance",
    "_Feature"
   ],
   "window_display": false
  }
 },
 "nbformat": 4,
 "nbformat_minor": 4
}
